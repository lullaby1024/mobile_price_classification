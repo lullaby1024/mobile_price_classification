{
 "cells": [
  {
   "cell_type": "code",
   "execution_count": 1,
   "metadata": {},
   "outputs": [
    {
     "name": "stdout",
     "output_type": "stream",
     "text": [
      "Checking whether there is an H2O instance running at http://localhost:54321 ..... not found.\n",
      "Attempting to start a local H2O server...\n",
      "  Java Version: java version \"11.0.3\" 2019-04-16 LTS; Java(TM) SE Runtime Environment 18.9 (build 11.0.3+12-LTS); Java HotSpot(TM) 64-Bit Server VM 18.9 (build 11.0.3+12-LTS, mixed mode)\n",
      "  Starting server from /Users/charlottefeng/opt/anaconda3/envs/ml/lib/python3.8/site-packages/h2o/backend/bin/h2o.jar\n",
      "  Ice root: /var/folders/xp/08mc5j0141gd6235k_vvnd3h0000gn/T/tmp0x4kwle2\n",
      "  JVM stdout: /var/folders/xp/08mc5j0141gd6235k_vvnd3h0000gn/T/tmp0x4kwle2/h2o_charlottefeng_started_from_python.out\n",
      "  JVM stderr: /var/folders/xp/08mc5j0141gd6235k_vvnd3h0000gn/T/tmp0x4kwle2/h2o_charlottefeng_started_from_python.err\n",
      "  Server is running at http://127.0.0.1:54321\n",
      "Connecting to H2O server at http://127.0.0.1:54321 ... successful.\n"
     ]
    },
    {
     "data": {
      "text/html": [
       "<div style=\"overflow:auto\"><table style=\"width:50%\"><tr><td>H2O_cluster_uptime:</td>\n",
       "<td>03 secs</td></tr>\n",
       "<tr><td>H2O_cluster_timezone:</td>\n",
       "<td>America/New_York</td></tr>\n",
       "<tr><td>H2O_data_parsing_timezone:</td>\n",
       "<td>UTC</td></tr>\n",
       "<tr><td>H2O_cluster_version:</td>\n",
       "<td>3.30.1.3</td></tr>\n",
       "<tr><td>H2O_cluster_version_age:</td>\n",
       "<td>1 month and 13 days </td></tr>\n",
       "<tr><td>H2O_cluster_name:</td>\n",
       "<td>H2O_from_python_charlottefeng_plx6ap</td></tr>\n",
       "<tr><td>H2O_cluster_total_nodes:</td>\n",
       "<td>1</td></tr>\n",
       "<tr><td>H2O_cluster_free_memory:</td>\n",
       "<td>2 Gb</td></tr>\n",
       "<tr><td>H2O_cluster_total_cores:</td>\n",
       "<td>4</td></tr>\n",
       "<tr><td>H2O_cluster_allowed_cores:</td>\n",
       "<td>4</td></tr>\n",
       "<tr><td>H2O_cluster_status:</td>\n",
       "<td>accepting new members, healthy</td></tr>\n",
       "<tr><td>H2O_connection_url:</td>\n",
       "<td>http://127.0.0.1:54321</td></tr>\n",
       "<tr><td>H2O_connection_proxy:</td>\n",
       "<td>{\"http\": null, \"https\": null}</td></tr>\n",
       "<tr><td>H2O_internal_security:</td>\n",
       "<td>False</td></tr>\n",
       "<tr><td>H2O_API_Extensions:</td>\n",
       "<td>Amazon S3, XGBoost, Algos, AutoML, Core V3, TargetEncoder, Core V4</td></tr>\n",
       "<tr><td>Python_version:</td>\n",
       "<td>3.8.3 final</td></tr></table></div>"
      ],
      "text/plain": [
       "--------------------------  ------------------------------------------------------------------\n",
       "H2O_cluster_uptime:         03 secs\n",
       "H2O_cluster_timezone:       America/New_York\n",
       "H2O_data_parsing_timezone:  UTC\n",
       "H2O_cluster_version:        3.30.1.3\n",
       "H2O_cluster_version_age:    1 month and 13 days\n",
       "H2O_cluster_name:           H2O_from_python_charlottefeng_plx6ap\n",
       "H2O_cluster_total_nodes:    1\n",
       "H2O_cluster_free_memory:    2 Gb\n",
       "H2O_cluster_total_cores:    4\n",
       "H2O_cluster_allowed_cores:  4\n",
       "H2O_cluster_status:         accepting new members, healthy\n",
       "H2O_connection_url:         http://127.0.0.1:54321\n",
       "H2O_connection_proxy:       {\"http\": null, \"https\": null}\n",
       "H2O_internal_security:      False\n",
       "H2O_API_Extensions:         Amazon S3, XGBoost, Algos, AutoML, Core V3, TargetEncoder, Core V4\n",
       "Python_version:             3.8.3 final\n",
       "--------------------------  ------------------------------------------------------------------"
      ]
     },
     "metadata": {},
     "output_type": "display_data"
    }
   ],
   "source": [
    "import h2o\n",
    "h2o.init()"
   ]
  },
  {
   "cell_type": "markdown",
   "metadata": {},
   "source": [
    "# Data Import"
   ]
  },
  {
   "cell_type": "code",
   "execution_count": 2,
   "metadata": {},
   "outputs": [
    {
     "name": "stdout",
     "output_type": "stream",
     "text": [
      "Parse progress: |█████████████████████████████████████████████████████████| 100%\n"
     ]
    }
   ],
   "source": [
    "df = h2o.import_file(\"data/train.csv\")"
   ]
  },
  {
   "cell_type": "code",
   "execution_count": 3,
   "metadata": {},
   "outputs": [
    {
     "data": {
      "text/plain": [
       "(2000, 21)"
      ]
     },
     "execution_count": 3,
     "metadata": {},
     "output_type": "execute_result"
    }
   ],
   "source": [
    "df.shape"
   ]
  },
  {
   "cell_type": "code",
   "execution_count": 4,
   "metadata": {},
   "outputs": [
    {
     "data": {
      "text/plain": [
       "['battery_power',\n",
       " 'blue',\n",
       " 'clock_speed',\n",
       " 'dual_sim',\n",
       " 'fc',\n",
       " 'four_g',\n",
       " 'int_memory',\n",
       " 'm_dep',\n",
       " 'mobile_wt',\n",
       " 'n_cores',\n",
       " 'pc',\n",
       " 'px_height',\n",
       " 'px_width',\n",
       " 'ram',\n",
       " 'sc_h',\n",
       " 'sc_w',\n",
       " 'talk_time',\n",
       " 'three_g',\n",
       " 'touch_screen',\n",
       " 'wifi',\n",
       " 'price_range']"
      ]
     },
     "execution_count": 4,
     "metadata": {},
     "output_type": "execute_result"
    }
   ],
   "source": [
    "df.columns"
   ]
  },
  {
   "cell_type": "markdown",
   "metadata": {},
   "source": [
    "# Preprocessing"
   ]
  },
  {
   "cell_type": "markdown",
   "metadata": {},
   "source": [
    "## Encode response variable"
   ]
  },
  {
   "cell_type": "markdown",
   "metadata": {},
   "source": [
    "- y: `price_range`.\n",
    "    - 0(low cost), 1(medium cost), 2(high cost) and 3(very high cost)."
   ]
  },
  {
   "cell_type": "code",
   "execution_count": 5,
   "metadata": {},
   "outputs": [
    {
     "data": {
      "text/plain": [
       "[['0', '1', '2', '3']]"
      ]
     },
     "execution_count": 5,
     "metadata": {},
     "output_type": "execute_result"
    }
   ],
   "source": [
    "df['price_range'] = df['price_range'].asfactor()\n",
    "df['price_range'].levels()"
   ]
  },
  {
   "cell_type": "markdown",
   "metadata": {},
   "source": [
    "## Train-test-split"
   ]
  },
  {
   "cell_type": "code",
   "execution_count": 6,
   "metadata": {},
   "outputs": [],
   "source": [
    "train, val, test = df.split_frame(ratios=[0.8, 0.1], seed=0)"
   ]
  },
  {
   "cell_type": "code",
   "execution_count": 7,
   "metadata": {},
   "outputs": [
    {
     "name": "stdout",
     "output_type": "stream",
     "text": [
      "Training set size: 1597\n",
      "Validation set size: 206\n",
      "Test set size: 197\n"
     ]
    }
   ],
   "source": [
    "print('Training set size:', train.nrow)\n",
    "print('Validation set size:', val.nrow)\n",
    "print('Test set size:', test.nrow)"
   ]
  },
  {
   "cell_type": "code",
   "execution_count": 8,
   "metadata": {},
   "outputs": [],
   "source": [
    "y = 'price_range'\n",
    "x = list(df.columns)\n",
    "x.remove(y)"
   ]
  },
  {
   "cell_type": "markdown",
   "metadata": {},
   "source": [
    "# Modeling"
   ]
  },
  {
   "cell_type": "markdown",
   "metadata": {},
   "source": [
    "## Random Forest"
   ]
  },
  {
   "cell_type": "code",
   "execution_count": 9,
   "metadata": {},
   "outputs": [],
   "source": [
    "from h2o.estimators import H2ORandomForestEstimator"
   ]
  },
  {
   "cell_type": "code",
   "execution_count": 10,
   "metadata": {},
   "outputs": [
    {
     "name": "stdout",
     "output_type": "stream",
     "text": [
      "drf Model Build progress: |███████████████████████████████████████████████| 100%\n"
     ]
    }
   ],
   "source": [
    "rf = H2ORandomForestEstimator(seed=0)\n",
    "\n",
    "rf.train(x=x, y=y, training_frame=train, validation_frame=val)"
   ]
  },
  {
   "cell_type": "code",
   "execution_count": 11,
   "metadata": {},
   "outputs": [],
   "source": [
    "rf_perf = rf.model_performance(test_data=test)"
   ]
  },
  {
   "cell_type": "code",
   "execution_count": 12,
   "metadata": {},
   "outputs": [
    {
     "name": "stdout",
     "output_type": "stream",
     "text": [
      "\n",
      "ModelMetricsMultinomial: drf\n",
      "** Reported on test data. **\n",
      "\n",
      "MSE: 0.16355058089756336\n",
      "RMSE: 0.40441387327534073\n",
      "LogLoss: 0.502290467124602\n",
      "Mean Per-Class Error: 0.11288950932255062\n",
      "\n",
      "Confusion Matrix: Row labels: Actual class; Column labels: Predicted class\n"
     ]
    },
    {
     "data": {
      "text/html": [
       "<div>\n",
       "<style scoped>\n",
       "    .dataframe tbody tr th:only-of-type {\n",
       "        vertical-align: middle;\n",
       "    }\n",
       "\n",
       "    .dataframe tbody tr th {\n",
       "        vertical-align: top;\n",
       "    }\n",
       "\n",
       "    .dataframe thead th {\n",
       "        text-align: right;\n",
       "    }\n",
       "</style>\n",
       "<table border=\"1\" class=\"dataframe\">\n",
       "  <thead>\n",
       "    <tr style=\"text-align: right;\">\n",
       "      <th></th>\n",
       "      <th>0</th>\n",
       "      <th>1</th>\n",
       "      <th>2</th>\n",
       "      <th>3</th>\n",
       "      <th>Error</th>\n",
       "      <th>Rate</th>\n",
       "    </tr>\n",
       "  </thead>\n",
       "  <tbody>\n",
       "    <tr>\n",
       "      <th>0</th>\n",
       "      <td>46.0</td>\n",
       "      <td>5.0</td>\n",
       "      <td>0.0</td>\n",
       "      <td>0.0</td>\n",
       "      <td>0.098039</td>\n",
       "      <td>5 / 51</td>\n",
       "    </tr>\n",
       "    <tr>\n",
       "      <th>1</th>\n",
       "      <td>2.0</td>\n",
       "      <td>48.0</td>\n",
       "      <td>2.0</td>\n",
       "      <td>0.0</td>\n",
       "      <td>0.076923</td>\n",
       "      <td>4 / 52</td>\n",
       "    </tr>\n",
       "    <tr>\n",
       "      <th>2</th>\n",
       "      <td>1.0</td>\n",
       "      <td>5.0</td>\n",
       "      <td>37.0</td>\n",
       "      <td>4.0</td>\n",
       "      <td>0.212766</td>\n",
       "      <td>10 / 47</td>\n",
       "    </tr>\n",
       "    <tr>\n",
       "      <th>3</th>\n",
       "      <td>0.0</td>\n",
       "      <td>0.0</td>\n",
       "      <td>3.0</td>\n",
       "      <td>44.0</td>\n",
       "      <td>0.063830</td>\n",
       "      <td>3 / 47</td>\n",
       "    </tr>\n",
       "    <tr>\n",
       "      <th>4</th>\n",
       "      <td>49.0</td>\n",
       "      <td>58.0</td>\n",
       "      <td>42.0</td>\n",
       "      <td>48.0</td>\n",
       "      <td>0.111675</td>\n",
       "      <td>22 / 197</td>\n",
       "    </tr>\n",
       "  </tbody>\n",
       "</table>\n",
       "</div>"
      ],
      "text/plain": [
       "      0     1     2     3     Error      Rate\n",
       "0  46.0   5.0   0.0   0.0  0.098039    5 / 51\n",
       "1   2.0  48.0   2.0   0.0  0.076923    4 / 52\n",
       "2   1.0   5.0  37.0   4.0  0.212766   10 / 47\n",
       "3   0.0   0.0   3.0  44.0  0.063830    3 / 47\n",
       "4  49.0  58.0  42.0  48.0  0.111675  22 / 197"
      ]
     },
     "metadata": {},
     "output_type": "display_data"
    },
    {
     "name": "stdout",
     "output_type": "stream",
     "text": [
      "\n",
      "Top-4 Hit Ratios: \n"
     ]
    },
    {
     "data": {
      "text/html": [
       "<div>\n",
       "<style scoped>\n",
       "    .dataframe tbody tr th:only-of-type {\n",
       "        vertical-align: middle;\n",
       "    }\n",
       "\n",
       "    .dataframe tbody tr th {\n",
       "        vertical-align: top;\n",
       "    }\n",
       "\n",
       "    .dataframe thead th {\n",
       "        text-align: right;\n",
       "    }\n",
       "</style>\n",
       "<table border=\"1\" class=\"dataframe\">\n",
       "  <thead>\n",
       "    <tr style=\"text-align: right;\">\n",
       "      <th></th>\n",
       "      <th>k</th>\n",
       "      <th>hit_ratio</th>\n",
       "    </tr>\n",
       "  </thead>\n",
       "  <tbody>\n",
       "    <tr>\n",
       "      <th>0</th>\n",
       "      <td>1</td>\n",
       "      <td>0.888325</td>\n",
       "    </tr>\n",
       "    <tr>\n",
       "      <th>1</th>\n",
       "      <td>2</td>\n",
       "      <td>0.989848</td>\n",
       "    </tr>\n",
       "    <tr>\n",
       "      <th>2</th>\n",
       "      <td>3</td>\n",
       "      <td>1.000000</td>\n",
       "    </tr>\n",
       "    <tr>\n",
       "      <th>3</th>\n",
       "      <td>4</td>\n",
       "      <td>1.000000</td>\n",
       "    </tr>\n",
       "  </tbody>\n",
       "</table>\n",
       "</div>"
      ],
      "text/plain": [
       "   k  hit_ratio\n",
       "0  1   0.888325\n",
       "1  2   0.989848\n",
       "2  3   1.000000\n",
       "3  4   1.000000"
      ]
     },
     "metadata": {},
     "output_type": "display_data"
    },
    {
     "data": {
      "text/plain": []
     },
     "execution_count": 12,
     "metadata": {},
     "output_type": "execute_result"
    }
   ],
   "source": [
    "rf_perf"
   ]
  },
  {
   "cell_type": "code",
   "execution_count": 13,
   "metadata": {},
   "outputs": [
    {
     "name": "stdout",
     "output_type": "stream",
     "text": [
      "Training loss: 0.6051669360631697\n",
      "Validation loss: 0.5161306617719451\n"
     ]
    }
   ],
   "source": [
    "print('Training loss:', rf.logloss(train=True))\n",
    "print('Validation loss:', rf.logloss(valid=True))"
   ]
  },
  {
   "cell_type": "markdown",
   "metadata": {},
   "source": [
    "## GBM"
   ]
  },
  {
   "cell_type": "code",
   "execution_count": 14,
   "metadata": {},
   "outputs": [
    {
     "name": "stdout",
     "output_type": "stream",
     "text": [
      "gbm Model Build progress: |███████████████████████████████████████████████| 100%\n"
     ]
    }
   ],
   "source": [
    "from h2o.estimators.gbm import H2OGradientBoostingEstimator\n",
    "\n",
    "gbm = H2OGradientBoostingEstimator(seed=0)\n",
    "gbm.train(x=x, y=y, training_frame=train, validation_frame=val)"
   ]
  },
  {
   "cell_type": "code",
   "execution_count": 15,
   "metadata": {},
   "outputs": [],
   "source": [
    "gbm_perf = gbm.model_performance(test_data=test)"
   ]
  },
  {
   "cell_type": "code",
   "execution_count": 16,
   "metadata": {},
   "outputs": [
    {
     "name": "stdout",
     "output_type": "stream",
     "text": [
      "\n",
      "ModelMetricsMultinomial: gbm\n",
      "** Reported on test data. **\n",
      "\n",
      "MSE: 0.06101225604688036\n",
      "RMSE: 0.24700659110007644\n",
      "LogLoss: 0.1997476830528826\n",
      "Mean Per-Class Error: 0.08324909341805463\n",
      "\n",
      "Confusion Matrix: Row labels: Actual class; Column labels: Predicted class\n"
     ]
    },
    {
     "data": {
      "text/html": [
       "<div>\n",
       "<style scoped>\n",
       "    .dataframe tbody tr th:only-of-type {\n",
       "        vertical-align: middle;\n",
       "    }\n",
       "\n",
       "    .dataframe tbody tr th {\n",
       "        vertical-align: top;\n",
       "    }\n",
       "\n",
       "    .dataframe thead th {\n",
       "        text-align: right;\n",
       "    }\n",
       "</style>\n",
       "<table border=\"1\" class=\"dataframe\">\n",
       "  <thead>\n",
       "    <tr style=\"text-align: right;\">\n",
       "      <th></th>\n",
       "      <th>0</th>\n",
       "      <th>1</th>\n",
       "      <th>2</th>\n",
       "      <th>3</th>\n",
       "      <th>Error</th>\n",
       "      <th>Rate</th>\n",
       "    </tr>\n",
       "  </thead>\n",
       "  <tbody>\n",
       "    <tr>\n",
       "      <th>0</th>\n",
       "      <td>49.0</td>\n",
       "      <td>2.0</td>\n",
       "      <td>0.0</td>\n",
       "      <td>0.0</td>\n",
       "      <td>0.039216</td>\n",
       "      <td>2 / 51</td>\n",
       "    </tr>\n",
       "    <tr>\n",
       "      <th>1</th>\n",
       "      <td>0.0</td>\n",
       "      <td>50.0</td>\n",
       "      <td>2.0</td>\n",
       "      <td>0.0</td>\n",
       "      <td>0.038462</td>\n",
       "      <td>2 / 52</td>\n",
       "    </tr>\n",
       "    <tr>\n",
       "      <th>2</th>\n",
       "      <td>0.0</td>\n",
       "      <td>5.0</td>\n",
       "      <td>37.0</td>\n",
       "      <td>5.0</td>\n",
       "      <td>0.212766</td>\n",
       "      <td>10 / 47</td>\n",
       "    </tr>\n",
       "    <tr>\n",
       "      <th>3</th>\n",
       "      <td>0.0</td>\n",
       "      <td>0.0</td>\n",
       "      <td>2.0</td>\n",
       "      <td>45.0</td>\n",
       "      <td>0.042553</td>\n",
       "      <td>2 / 47</td>\n",
       "    </tr>\n",
       "    <tr>\n",
       "      <th>4</th>\n",
       "      <td>49.0</td>\n",
       "      <td>57.0</td>\n",
       "      <td>41.0</td>\n",
       "      <td>50.0</td>\n",
       "      <td>0.081218</td>\n",
       "      <td>16 / 197</td>\n",
       "    </tr>\n",
       "  </tbody>\n",
       "</table>\n",
       "</div>"
      ],
      "text/plain": [
       "      0     1     2     3     Error      Rate\n",
       "0  49.0   2.0   0.0   0.0  0.039216    2 / 51\n",
       "1   0.0  50.0   2.0   0.0  0.038462    2 / 52\n",
       "2   0.0   5.0  37.0   5.0  0.212766   10 / 47\n",
       "3   0.0   0.0   2.0  45.0  0.042553    2 / 47\n",
       "4  49.0  57.0  41.0  50.0  0.081218  16 / 197"
      ]
     },
     "metadata": {},
     "output_type": "display_data"
    },
    {
     "name": "stdout",
     "output_type": "stream",
     "text": [
      "\n",
      "Top-4 Hit Ratios: \n"
     ]
    },
    {
     "data": {
      "text/html": [
       "<div>\n",
       "<style scoped>\n",
       "    .dataframe tbody tr th:only-of-type {\n",
       "        vertical-align: middle;\n",
       "    }\n",
       "\n",
       "    .dataframe tbody tr th {\n",
       "        vertical-align: top;\n",
       "    }\n",
       "\n",
       "    .dataframe thead th {\n",
       "        text-align: right;\n",
       "    }\n",
       "</style>\n",
       "<table border=\"1\" class=\"dataframe\">\n",
       "  <thead>\n",
       "    <tr style=\"text-align: right;\">\n",
       "      <th></th>\n",
       "      <th>k</th>\n",
       "      <th>hit_ratio</th>\n",
       "    </tr>\n",
       "  </thead>\n",
       "  <tbody>\n",
       "    <tr>\n",
       "      <th>0</th>\n",
       "      <td>1</td>\n",
       "      <td>0.918782</td>\n",
       "    </tr>\n",
       "    <tr>\n",
       "      <th>1</th>\n",
       "      <td>2</td>\n",
       "      <td>1.000000</td>\n",
       "    </tr>\n",
       "    <tr>\n",
       "      <th>2</th>\n",
       "      <td>3</td>\n",
       "      <td>1.000000</td>\n",
       "    </tr>\n",
       "    <tr>\n",
       "      <th>3</th>\n",
       "      <td>4</td>\n",
       "      <td>1.000000</td>\n",
       "    </tr>\n",
       "  </tbody>\n",
       "</table>\n",
       "</div>"
      ],
      "text/plain": [
       "   k  hit_ratio\n",
       "0  1   0.918782\n",
       "1  2   1.000000\n",
       "2  3   1.000000\n",
       "3  4   1.000000"
      ]
     },
     "metadata": {},
     "output_type": "display_data"
    },
    {
     "data": {
      "text/plain": []
     },
     "execution_count": 16,
     "metadata": {},
     "output_type": "execute_result"
    }
   ],
   "source": [
    "gbm_perf"
   ]
  },
  {
   "cell_type": "code",
   "execution_count": 17,
   "metadata": {},
   "outputs": [
    {
     "name": "stdout",
     "output_type": "stream",
     "text": [
      "Training loss: 0.04494925795614103\n",
      "Validation loss: 0.22848238084995362\n"
     ]
    }
   ],
   "source": [
    "print('Training loss:', gbm.logloss(train=True))\n",
    "print('Validation loss:', gbm.logloss(valid=True))"
   ]
  },
  {
   "cell_type": "markdown",
   "metadata": {},
   "source": [
    "## GBM with Random Search of Hyperparameters\n",
    "- [Reference](https://github.com/h2oai/h2o-tutorials/blob/master/h2o-open-tour-2016/chicago/grid-search-model-selection.ipynb)"
   ]
  },
  {
   "cell_type": "code",
   "execution_count": 18,
   "metadata": {},
   "outputs": [],
   "source": [
    "gbm_params = {\n",
    "    'learn_rate': [i * 0.01 for i in range(1, 11)], \n",
    "    'max_depth': list(range(2, 11)),\n",
    "    'sample_rate': [i * 0.1 for i in range(5, 11)],\n",
    "    'col_sample_rate': [i * 0.1 for i in range(1, 11)]\n",
    "}\n",
    "\n",
    "search_criteria = {'strategy': 'RandomDiscrete', 'max_models': 36}"
   ]
  },
  {
   "cell_type": "code",
   "execution_count": 19,
   "metadata": {},
   "outputs": [
    {
     "name": "stdout",
     "output_type": "stream",
     "text": [
      "gbm Grid Build progress: |████████████████████████████████████████████████| 100%\n"
     ]
    }
   ],
   "source": [
    "from h2o.grid.grid_search import H2OGridSearch\n",
    "\n",
    "gbm_grid = H2OGridSearch(model=H2OGradientBoostingEstimator,\n",
    "                         hyper_params=gbm_params,\n",
    "                         search_criteria=search_criteria)\n",
    "gbm_grid.train(x=x, y=y, \n",
    "               training_frame=train, \n",
    "               validation_frame=val, \n",
    "               ntrees=100,\n",
    "               seed=0)"
   ]
  },
  {
   "cell_type": "code",
   "execution_count": 20,
   "metadata": {},
   "outputs": [],
   "source": [
    "gbm_grid_perf = gbm_grid.get_grid(sort_by='logloss', decreasing=False)"
   ]
  },
  {
   "cell_type": "code",
   "execution_count": 21,
   "metadata": {},
   "outputs": [
    {
     "name": "stdout",
     "output_type": "stream",
     "text": [
      "          col_sample_rate learn_rate max_depth         sample_rate  \\\n",
      "0                     0.8       0.06         6  0.6000000000000001   \n",
      "1                     0.9       0.05        10  0.6000000000000001   \n",
      "2                     0.9       0.08         9  0.7000000000000001   \n",
      "3                     0.9       0.05         7  0.7000000000000001   \n",
      "4                     0.4        0.1         4                 1.0   \n",
      "5                     0.8       0.08         3                 0.8   \n",
      "6                     0.9       0.08         7  0.7000000000000001   \n",
      "7                     0.9       0.08         8  0.7000000000000001   \n",
      "8                     0.5       0.07         5                 0.5   \n",
      "9                     1.0       0.06         4                 1.0   \n",
      "10                    0.8       0.09         8  0.7000000000000001   \n",
      "11     0.6000000000000001       0.08         5                 1.0   \n",
      "12     0.6000000000000001       0.05         6                 1.0   \n",
      "13     0.6000000000000001       0.08         7                 0.8   \n",
      "14    0.30000000000000004        0.1         6  0.6000000000000001   \n",
      "15     0.7000000000000001       0.03        10  0.7000000000000001   \n",
      "16                    1.0       0.03        10  0.6000000000000001   \n",
      "17                    0.4       0.05         6                 0.9   \n",
      "18                    1.0       0.03         8                 1.0   \n",
      "19    0.30000000000000004       0.08         4                 0.5   \n",
      "20     0.6000000000000001       0.03        10  0.7000000000000001   \n",
      "21     0.6000000000000001       0.03        10                 0.9   \n",
      "22     0.6000000000000001       0.03         5  0.6000000000000001   \n",
      "23                    0.8        0.1        10                 0.9   \n",
      "24     0.6000000000000001       0.02         8                 0.5   \n",
      "25                    0.2       0.03         8  0.7000000000000001   \n",
      "26                    0.1       0.09         5  0.6000000000000001   \n",
      "27                    0.4       0.06         2                 0.5   \n",
      "28                    0.1       0.04         9                 1.0   \n",
      "29                    0.2       0.07         2                 0.5   \n",
      "30     0.7000000000000001       0.01         9  0.6000000000000001   \n",
      "31                    0.5       0.01         8  0.7000000000000001   \n",
      "32                    0.4       0.01        10                 1.0   \n",
      "33                    0.9       0.01         4                 0.5   \n",
      "34    0.30000000000000004       0.03         2                 0.9   \n",
      "35                    0.1       0.02         3  0.6000000000000001   \n",
      "\n",
      "                                                       model_ids  \\\n",
      "0   Grid_GBM_py_5_sid_a150_model_python_1605046216147_3_model_18   \n",
      "1   Grid_GBM_py_5_sid_a150_model_python_1605046216147_3_model_36   \n",
      "2    Grid_GBM_py_5_sid_a150_model_python_1605046216147_3_model_2   \n",
      "3   Grid_GBM_py_5_sid_a150_model_python_1605046216147_3_model_15   \n",
      "4    Grid_GBM_py_5_sid_a150_model_python_1605046216147_3_model_3   \n",
      "5   Grid_GBM_py_5_sid_a150_model_python_1605046216147_3_model_10   \n",
      "6   Grid_GBM_py_5_sid_a150_model_python_1605046216147_3_model_13   \n",
      "7   Grid_GBM_py_5_sid_a150_model_python_1605046216147_3_model_34   \n",
      "8   Grid_GBM_py_5_sid_a150_model_python_1605046216147_3_model_16   \n",
      "9    Grid_GBM_py_5_sid_a150_model_python_1605046216147_3_model_7   \n",
      "10  Grid_GBM_py_5_sid_a150_model_python_1605046216147_3_model_27   \n",
      "11  Grid_GBM_py_5_sid_a150_model_python_1605046216147_3_model_24   \n",
      "12   Grid_GBM_py_5_sid_a150_model_python_1605046216147_3_model_5   \n",
      "13  Grid_GBM_py_5_sid_a150_model_python_1605046216147_3_model_30   \n",
      "14  Grid_GBM_py_5_sid_a150_model_python_1605046216147_3_model_31   \n",
      "15  Grid_GBM_py_5_sid_a150_model_python_1605046216147_3_model_26   \n",
      "16  Grid_GBM_py_5_sid_a150_model_python_1605046216147_3_model_23   \n",
      "17  Grid_GBM_py_5_sid_a150_model_python_1605046216147_3_model_21   \n",
      "18  Grid_GBM_py_5_sid_a150_model_python_1605046216147_3_model_20   \n",
      "19  Grid_GBM_py_5_sid_a150_model_python_1605046216147_3_model_25   \n",
      "20   Grid_GBM_py_5_sid_a150_model_python_1605046216147_3_model_1   \n",
      "21   Grid_GBM_py_5_sid_a150_model_python_1605046216147_3_model_4   \n",
      "22   Grid_GBM_py_5_sid_a150_model_python_1605046216147_3_model_8   \n",
      "23  Grid_GBM_py_5_sid_a150_model_python_1605046216147_3_model_14   \n",
      "24  Grid_GBM_py_5_sid_a150_model_python_1605046216147_3_model_35   \n",
      "25  Grid_GBM_py_5_sid_a150_model_python_1605046216147_3_model_19   \n",
      "26   Grid_GBM_py_5_sid_a150_model_python_1605046216147_3_model_6   \n",
      "27  Grid_GBM_py_5_sid_a150_model_python_1605046216147_3_model_33   \n",
      "28   Grid_GBM_py_5_sid_a150_model_python_1605046216147_3_model_9   \n",
      "29  Grid_GBM_py_5_sid_a150_model_python_1605046216147_3_model_28   \n",
      "30  Grid_GBM_py_5_sid_a150_model_python_1605046216147_3_model_17   \n",
      "31  Grid_GBM_py_5_sid_a150_model_python_1605046216147_3_model_11   \n",
      "32  Grid_GBM_py_5_sid_a150_model_python_1605046216147_3_model_12   \n",
      "33  Grid_GBM_py_5_sid_a150_model_python_1605046216147_3_model_29   \n",
      "34  Grid_GBM_py_5_sid_a150_model_python_1605046216147_3_model_22   \n",
      "35  Grid_GBM_py_5_sid_a150_model_python_1605046216147_3_model_32   \n",
      "\n",
      "                logloss  \n",
      "0   0.20382053872090908  \n",
      "1     0.215449145764742  \n",
      "2    0.2184266282725913  \n",
      "3   0.22065797683080993  \n",
      "4   0.22189509052650958  \n",
      "5   0.22236315909249346  \n",
      "6   0.22717915840927602  \n",
      "7   0.22812352491721777  \n",
      "8    0.2285170378576303  \n",
      "9   0.22974043020931423  \n",
      "10  0.23659033840175983  \n",
      "11  0.23724237411127963  \n",
      "12   0.2398577317494326  \n",
      "13  0.24528796539036024  \n",
      "14    0.252768650280278  \n",
      "15   0.2532398012070497  \n",
      "16  0.25367960504341286  \n",
      "17   0.2566429108966179  \n",
      "18  0.26119217361657643  \n",
      "19    0.266339567016066  \n",
      "20  0.27342624104621976  \n",
      "21  0.27539751956098635  \n",
      "22  0.29349453292529154  \n",
      "23  0.29667297306417895  \n",
      "24  0.35698010830050914  \n",
      "25  0.40231199562424014  \n",
      "26  0.41698813336245083  \n",
      "27  0.42428663992862065  \n",
      "28   0.4843189620971779  \n",
      "29   0.5157864358747496  \n",
      "30   0.5324569645705385  \n",
      "31   0.5702349181408694  \n",
      "32   0.5729010998226678  \n",
      "33   0.5789165614871711  \n",
      "34   0.6099096119480742  \n",
      "35   0.9312084635753185  \n"
     ]
    },
    {
     "data": {
      "text/plain": []
     },
     "execution_count": 21,
     "metadata": {},
     "output_type": "execute_result"
    }
   ],
   "source": [
    "gbm_grid_perf"
   ]
  },
  {
   "cell_type": "code",
   "execution_count": 22,
   "metadata": {},
   "outputs": [],
   "source": [
    "best_gbm_model = gbm_grid_perf.models[0]"
   ]
  },
  {
   "cell_type": "code",
   "execution_count": 23,
   "metadata": {},
   "outputs": [],
   "source": [
    "gbm_best_perf = best_gbm_model.model_performance(test_data=test)"
   ]
  },
  {
   "cell_type": "code",
   "execution_count": 24,
   "metadata": {},
   "outputs": [
    {
     "name": "stdout",
     "output_type": "stream",
     "text": [
      "\n",
      "ModelMetricsMultinomial: gbm\n",
      "** Reported on test data. **\n",
      "\n",
      "MSE: 0.058305168991132084\n",
      "RMSE: 0.2414646330027072\n",
      "LogLoss: 0.1912323538372744\n",
      "Mean Per-Class Error: 0.07363370880267\n",
      "\n",
      "Confusion Matrix: Row labels: Actual class; Column labels: Predicted class\n"
     ]
    },
    {
     "data": {
      "text/html": [
       "<div>\n",
       "<style scoped>\n",
       "    .dataframe tbody tr th:only-of-type {\n",
       "        vertical-align: middle;\n",
       "    }\n",
       "\n",
       "    .dataframe tbody tr th {\n",
       "        vertical-align: top;\n",
       "    }\n",
       "\n",
       "    .dataframe thead th {\n",
       "        text-align: right;\n",
       "    }\n",
       "</style>\n",
       "<table border=\"1\" class=\"dataframe\">\n",
       "  <thead>\n",
       "    <tr style=\"text-align: right;\">\n",
       "      <th></th>\n",
       "      <th>0</th>\n",
       "      <th>1</th>\n",
       "      <th>2</th>\n",
       "      <th>3</th>\n",
       "      <th>Error</th>\n",
       "      <th>Rate</th>\n",
       "    </tr>\n",
       "  </thead>\n",
       "  <tbody>\n",
       "    <tr>\n",
       "      <th>0</th>\n",
       "      <td>49.0</td>\n",
       "      <td>2.0</td>\n",
       "      <td>0.0</td>\n",
       "      <td>0.0</td>\n",
       "      <td>0.039216</td>\n",
       "      <td>2 / 51</td>\n",
       "    </tr>\n",
       "    <tr>\n",
       "      <th>1</th>\n",
       "      <td>0.0</td>\n",
       "      <td>52.0</td>\n",
       "      <td>0.0</td>\n",
       "      <td>0.0</td>\n",
       "      <td>0.000000</td>\n",
       "      <td>0 / 52</td>\n",
       "    </tr>\n",
       "    <tr>\n",
       "      <th>2</th>\n",
       "      <td>0.0</td>\n",
       "      <td>5.0</td>\n",
       "      <td>38.0</td>\n",
       "      <td>4.0</td>\n",
       "      <td>0.191489</td>\n",
       "      <td>9 / 47</td>\n",
       "    </tr>\n",
       "    <tr>\n",
       "      <th>3</th>\n",
       "      <td>0.0</td>\n",
       "      <td>0.0</td>\n",
       "      <td>3.0</td>\n",
       "      <td>44.0</td>\n",
       "      <td>0.063830</td>\n",
       "      <td>3 / 47</td>\n",
       "    </tr>\n",
       "    <tr>\n",
       "      <th>4</th>\n",
       "      <td>49.0</td>\n",
       "      <td>59.0</td>\n",
       "      <td>41.0</td>\n",
       "      <td>48.0</td>\n",
       "      <td>0.071066</td>\n",
       "      <td>14 / 197</td>\n",
       "    </tr>\n",
       "  </tbody>\n",
       "</table>\n",
       "</div>"
      ],
      "text/plain": [
       "      0     1     2     3     Error      Rate\n",
       "0  49.0   2.0   0.0   0.0  0.039216    2 / 51\n",
       "1   0.0  52.0   0.0   0.0  0.000000    0 / 52\n",
       "2   0.0   5.0  38.0   4.0  0.191489    9 / 47\n",
       "3   0.0   0.0   3.0  44.0  0.063830    3 / 47\n",
       "4  49.0  59.0  41.0  48.0  0.071066  14 / 197"
      ]
     },
     "metadata": {},
     "output_type": "display_data"
    },
    {
     "name": "stdout",
     "output_type": "stream",
     "text": [
      "\n",
      "Top-4 Hit Ratios: \n"
     ]
    },
    {
     "data": {
      "text/html": [
       "<div>\n",
       "<style scoped>\n",
       "    .dataframe tbody tr th:only-of-type {\n",
       "        vertical-align: middle;\n",
       "    }\n",
       "\n",
       "    .dataframe tbody tr th {\n",
       "        vertical-align: top;\n",
       "    }\n",
       "\n",
       "    .dataframe thead th {\n",
       "        text-align: right;\n",
       "    }\n",
       "</style>\n",
       "<table border=\"1\" class=\"dataframe\">\n",
       "  <thead>\n",
       "    <tr style=\"text-align: right;\">\n",
       "      <th></th>\n",
       "      <th>k</th>\n",
       "      <th>hit_ratio</th>\n",
       "    </tr>\n",
       "  </thead>\n",
       "  <tbody>\n",
       "    <tr>\n",
       "      <th>0</th>\n",
       "      <td>1</td>\n",
       "      <td>0.928934</td>\n",
       "    </tr>\n",
       "    <tr>\n",
       "      <th>1</th>\n",
       "      <td>2</td>\n",
       "      <td>1.000000</td>\n",
       "    </tr>\n",
       "    <tr>\n",
       "      <th>2</th>\n",
       "      <td>3</td>\n",
       "      <td>1.000000</td>\n",
       "    </tr>\n",
       "    <tr>\n",
       "      <th>3</th>\n",
       "      <td>4</td>\n",
       "      <td>1.000000</td>\n",
       "    </tr>\n",
       "  </tbody>\n",
       "</table>\n",
       "</div>"
      ],
      "text/plain": [
       "   k  hit_ratio\n",
       "0  1   0.928934\n",
       "1  2   1.000000\n",
       "2  3   1.000000\n",
       "3  4   1.000000"
      ]
     },
     "metadata": {},
     "output_type": "display_data"
    },
    {
     "data": {
      "text/plain": []
     },
     "execution_count": 24,
     "metadata": {},
     "output_type": "execute_result"
    }
   ],
   "source": [
    "gbm_best_perf"
   ]
  },
  {
   "cell_type": "code",
   "execution_count": 25,
   "metadata": {},
   "outputs": [
    {
     "name": "stdout",
     "output_type": "stream",
     "text": [
      "0.1912323538372744\n"
     ]
    }
   ],
   "source": [
    "print(gbm_best_perf.logloss())"
   ]
  }
 ],
 "metadata": {
  "kernelspec": {
   "display_name": "Python 3",
   "language": "python",
   "name": "python3"
  },
  "language_info": {
   "codemirror_mode": {
    "name": "ipython",
    "version": 3
   },
   "file_extension": ".py",
   "mimetype": "text/x-python",
   "name": "python",
   "nbconvert_exporter": "python",
   "pygments_lexer": "ipython3",
   "version": "3.8.3"
  }
 },
 "nbformat": 4,
 "nbformat_minor": 4
}
